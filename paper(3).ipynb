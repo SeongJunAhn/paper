{
 "cells": [
  {
   "cell_type": "code",
   "execution_count": 100,
   "metadata": {},
   "outputs": [],
   "source": [
    "from netCDF4 import Dataset\n",
    "import numpy as np\n",
    "from sklearn.cluster import KMeans\n",
    "import matplotlib.pyplot as plt\n",
    "from yellowbrick.cluster import KElbowVisualizer"
   ]
  },
  {
   "cell_type": "code",
   "execution_count": 101,
   "metadata": {},
   "outputs": [],
   "source": [
    "precip_raw=Dataset(r'./precip.mon.mean.nc','r')\n",
    "air_raw=Dataset(r'./air.mon.mean.nc','r')"
   ]
  },
  {
   "cell_type": "code",
   "execution_count": 102,
   "metadata": {},
   "outputs": [],
   "source": [
    "precip_rawdata=precip_raw.variables['precip'][:]\n",
    "air_rawdata=air_raw.variables['air'][:]"
   ]
  },
  {
   "cell_type": "code",
   "execution_count": 103,
   "metadata": {},
   "outputs": [
    {
     "name": "stdout",
     "output_type": "stream",
     "text": [
      "[-88.75 -86.25 -83.75 -81.25 -78.75 -76.25 -73.75 -71.25 -68.75 -66.25\n",
      " -63.75 -61.25 -58.75 -56.25 -53.75 -51.25 -48.75 -46.25 -43.75 -41.25\n",
      " -38.75 -36.25 -33.75 -31.25 -28.75 -26.25 -23.75 -21.25 -18.75 -16.25\n",
      " -13.75 -11.25  -8.75  -6.25  -3.75  -1.25   1.25   3.75   6.25   8.75\n",
      "  11.25  13.75  16.25  18.75  21.25  23.75  26.25  28.75  31.25  33.75\n",
      "  36.25  38.75  41.25  43.75  46.25  48.75  51.25  53.75  56.25  58.75\n",
      "  61.25  63.75  66.25  68.75  71.25  73.75  76.25  78.75  81.25  83.75\n",
      "  86.25  88.75]\n"
     ]
    }
   ],
   "source": [
    "precip_lat_data=precip_raw.variables['lat'][:]\n",
    "print(precip_lat_data)"
   ]
  },
  {
   "cell_type": "code",
   "execution_count": 104,
   "metadata": {
    "scrolled": true
   },
   "outputs": [
    {
     "name": "stdout",
     "output_type": "stream",
     "text": [
      "[ 90.   87.5  85.   82.5  80.   77.5  75.   72.5  70.   67.5  65.   62.5\n",
      "  60.   57.5  55.   52.5  50.   47.5  45.   42.5  40.   37.5  35.   32.5\n",
      "  30.   27.5  25.   22.5  20.   17.5  15.   12.5  10.    7.5   5.    2.5\n",
      "   0.   -2.5  -5.   -7.5 -10.  -12.5 -15.  -17.5 -20.  -22.5 -25.  -27.5\n",
      " -30.  -32.5 -35.  -37.5 -40.  -42.5 -45.  -47.5 -50.  -52.5 -55.  -57.5\n",
      " -60.  -62.5 -65.  -67.5 -70.  -72.5 -75.  -77.5 -80.  -82.5 -85.  -87.5\n",
      " -90. ]\n"
     ]
    }
   ],
   "source": [
    "air_lat_data=air_raw.variables['lat'][:]\n",
    "print(air_lat_data) # 역순"
   ]
  },
  {
   "cell_type": "code",
   "execution_count": 105,
   "metadata": {
    "scrolled": false
   },
   "outputs": [
    {
     "data": {
      "text/plain": [
       "((504, 72, 144), (877, 73, 144))"
      ]
     },
     "execution_count": 105,
     "metadata": {},
     "output_type": "execute_result"
    }
   ],
   "source": [
    "precip_rawdata.shape, air_rawdata.shape"
   ]
  },
  {
   "cell_type": "markdown",
   "metadata": {},
   "source": [
    "preprocessing"
   ]
  },
  {
   "cell_type": "code",
   "execution_count": 63,
   "metadata": {},
   "outputs": [],
   "source": [
    "all_data=[]\n",
    "for i in range(72):\n",
    "    for j in range(144):\n",
    "        line=[]\n",
    "        for k in range(504):\n",
    "            line.append(precip_rawdata[k][i][j])\n",
    "        all_data.append(line)"
   ]
  },
  {
   "cell_type": "code",
   "execution_count": 64,
   "metadata": {},
   "outputs": [],
   "source": [
    "for i in range(73):\n",
    "    for j in range(144):\n",
    "        line=[]\n",
    "        for k in range(373,877): #air 데이터 길이가 달라 373-877 범위 지정\n",
    "            line.append(air_rawdata[k][i][j])\n",
    "        all_data.append(line)"
   ]
  },
  {
   "cell_type": "code",
   "execution_count": 71,
   "metadata": {},
   "outputs": [
    {
     "data": {
      "text/plain": [
       "(array([504]), 20880)"
      ]
     },
     "execution_count": 71,
     "metadata": {},
     "output_type": "execute_result"
    }
   ],
   "source": [
    "np.unique(list(map(len, all_data))),len(all_data) #2N개 차원 데이터"
   ]
  },
  {
   "cell_type": "markdown",
   "metadata": {},
   "source": [
    "finding optimal k by elbow method"
   ]
  },
  {
   "cell_type": "code",
   "execution_count": 44,
   "metadata": {},
   "outputs": [],
   "source": [
    "def elbow(X):\n",
    "    sse=[]\n",
    "    for i in range(1,15):\n",
    "        km=KMeans(n_clusters=i,algorithm='auto',random_state=42)\n",
    "        km.fit(X)\n",
    "        sse.append(km.inertia_)\n",
    "    plt.plot(range(1,15),sse,'o-')\n",
    "    plt.xlabel('K')\n",
    "    plt.ylabel('SSE')\n",
    "    plt.show()"
   ]
  },
  {
   "cell_type": "code",
   "execution_count": 66,
   "metadata": {},
   "outputs": [
    {
     "data": {
      "image/png": "[encoded data removed]",
      "text/plain": [
       "<Figure size 432x288 with 1 Axes>"
      ]
     },
     "metadata": {
      "needs_background": "light"
     },
     "output_type": "display_data"
    }
   ],
   "source": [
    "elbow(all_data)"
   ]
  },
  {
   "cell_type": "markdown",
   "metadata": {},
   "source": [
    "kmeans clustering"
   ]
  },
  {
   "cell_type": "code",
   "execution_count": 96,
   "metadata": {},
   "outputs": [],
   "source": [
    "kmeans = KMeans(n_clusters=5,init='random',n_init=10,max_iter=300)"
   ]
  },
  {
   "cell_type": "code",
   "execution_count": 97,
   "metadata": {},
   "outputs": [
    {
     "data": {
      "text/plain": [
       "KMeans(algorithm='auto', copy_x=True, init='random', max_iter=300, n_clusters=5,\n",
       "       n_init=10, n_jobs=None, precompute_distances='auto', random_state=None,\n",
       "       tol=0.0001, verbose=0)"
      ]
     },
     "execution_count": 97,
     "metadata": {},
     "output_type": "execute_result"
    }
   ],
   "source": [
    "kmeans.fit(all_data)"
   ]
  }
 ],
 "metadata": {
  "kernelspec": {
   "display_name": "Python 3",
   "language": "python",
   "name": "python3"
  },
  "language_info": {
   "codemirror_mode": {
    "name": "ipython",
    "version": 3
   },
   "file_extension": ".py",
   "mimetype": "text/x-python",
   "name": "python",
   "nbconvert_exporter": "python",
   "pygments_lexer": "ipython3",
   "version": "3.7.6"
  }
 },
 "nbformat": 4,
 "nbformat_minor": 4
}

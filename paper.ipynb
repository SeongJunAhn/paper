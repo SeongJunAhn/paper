{
 "cells": [
  {
   "cell_type": "code",
   "execution_count": 6,
   "metadata": {},
   "outputs": [],
   "source": [
    "from netCDF4 import Dataset\n",
    "import numpy as np"
   ]
  },
  {
   "cell_type": "code",
   "execution_count": 8,
   "metadata": {},
   "outputs": [],
   "source": [
    "data=Dataset(r'./precip.mon.mean.nc','r')"
   ]
  },
  {
   "cell_type": "markdown",
   "metadata": {},
   "source": [
    "# data"
   ]
  },
  {
   "cell_type": "code",
   "execution_count": 9,
   "metadata": {},
   "outputs": [
    {
     "name": "stdout",
     "output_type": "stream",
     "text": [
      "<class 'netCDF4._netCDF4.Dataset'>\n",
      "root group (NETCDF4_CLASSIC data model, file format HDF5):\n",
      "    Conventions: CF-1.0\n",
      "    curator: Dr. Jian-Jian Wang\n",
      "ESSIC, University of Maryland College Park\n",
      "College Park, MD  20742  USA\n",
      "Phone: +1 301-405-4887\n",
      "    citation: Adler, R.F., G.J. Huffman, A. Chang, R. Ferraro, P. Xie, J. Janowiak, B. \n",
      "Rudolf, U. Schneider, S. Curtis, D. Bolvin, A. Gruber, J. Susskind, P. \n",
      "Arkin, 2003: The Version 2 Global Precipitation Climatology Project \n",
      "(GPCP) Monthly Precipitation Analysis (1979 - Present). J. Hydrometeor., \n",
      "4(6), 1147-1167.\n",
      "    title: GPCP Version 2.3 Combined Precipitation Dataset (Final)\n",
      "    platform: NOAA POES (Polar Orbiting Environmental Satellites)\n",
      "    source_obs: CDR RSS SSMI/SSMIS Tbs over ocean \n",
      "CDR SSMI/SSMIS rainrates over land (Ferraro) \n",
      "Geo-IR (Xie) calibrated by SSMI/SSMIS rainrates for sampling \n",
      "TOVS/AIRS empirical precipitation estimates at higher latitudes \n",
      "(ocean and land) \n",
      "GPCC gauge analysis to bias correct satellite estimates over land and \n",
      "merge with satellite based on sampling \n",
      "OLR Precipitation Index (OPI) (Xie) used for period before 1988\n",
      "    documentation: http://www.esrl.noaa.gov/psd/data/gridded/data.gpcp.html\n",
      "    version: V2.3\n",
      "    Acknowledgement: \n",
      "\n",
      "    contributor_name: Robert Adler    University of Maryland \n",
      "George Huffman  NASA Goddard Space Flight Center \n",
      "David Bolvin    NASA Goddard Space Flight Center/SSAI \n",
      "Eric Nelkin     NASA Goddard Space Flight Center/SSAI \n",
      "Udo Schneider   GPCC, Deutscher Wetterdienst \n",
      "Andreas Becker  GPCC, Deutscher Wetterdienst \n",
      "Long Chiu       George Mason University \n",
      "Mathew Sapiano  University of Maryland \n",
      "Pingping Xie    Climate Prediction Center, NWS, NOAA \n",
      "Ralph Ferraro   NESDIS, NOAA \n",
      "Jian-Jian Wang  University of Maryland \n",
      "Guojun Gu       University of Maryland\n",
      "    dataset_title: Global Precipitation Climatology Project (GPCP) Monthly Analysis Product\n",
      "    description: https://data.nodc.noaa.gov/cgi-bin/iso?id=gov.noaa.ncdc:C00970\n",
      "    source: https://www.ncei.noaa.gov/data/global-precipitation-climatology-project-gpcp-monthly/access/\n",
      "    source_documentation: https://www.ncdc.noaa.gov/cdr/atmospheric/precipitation-gpcp-monthly\n",
      "    NCO: 4.6.9\n",
      "    history: Generated at NOAA/ESRL PSD Sep 9 2016 based on data from source \n",
      "and stored in single netCDF4 file\n",
      "    References: http://www.psl.noaa.gov/data/gridded/data.gpcp.html\n",
      "    data_comment: Interim data covers 2020/11 through latest.\n",
      "    dimensions(sizes): lat(72), lon(144), time(504), nv(2)\n",
      "    variables(dimensions): float32 lat(lat), float32 lon(lon), float32 time_bnds(time, nv), float32 lat_bnds(lat, nv), float32 lon_bnds(lon, nv), float32 precip(time, lat, lon), float64 time(time)\n",
      "    groups: \n"
     ]
    }
   ],
   "source": [
    "print(data)"
   ]
  },
  {
   "cell_type": "markdown",
   "metadata": {},
   "source": [
    "# data variables"
   ]
  },
  {
   "cell_type": "code",
   "execution_count": 10,
   "metadata": {},
   "outputs": [
    {
     "name": "stdout",
     "output_type": "stream",
     "text": [
      "dict_keys(['lat', 'lon', 'time_bnds', 'lat_bnds', 'lon_bnds', 'precip', 'time'])\n"
     ]
    }
   ],
   "source": [
    "print(data.variables.keys())"
   ]
  },
  {
   "cell_type": "code",
   "execution_count": 11,
   "metadata": {},
   "outputs": [
    {
     "name": "stdout",
     "output_type": "stream",
     "text": [
      "<class 'netCDF4._netCDF4.Variable'>\n",
      "float32 precip(time, lat, lon)\n",
      "    long_name: Average Monthly Rate of Precipitation\n",
      "    valid_range: [  0. 100.]\n",
      "    units: mm/day\n",
      "    add_offset: 0.0\n",
      "    scale_factor: 1.0\n",
      "    missing_value: -9.96921e+36\n",
      "    precision: 32767\n",
      "    least_significant_digit: 2\n",
      "    var_desc: Precipitation\n",
      "    dataset: GPCP Version 2.3 Combined Precipitation Dataset\n",
      "    level_desc: Surface\n",
      "    statistic: Mean\n",
      "    parent_stat: Mean\n",
      "    actual_range: [0.0000000e+00 2.3604587e+37]\n",
      "unlimited dimensions: time\n",
      "current shape = (504, 72, 144)\n",
      "filling on, default _FillValue of 9.969209968386869e+36 used\n"
     ]
    }
   ],
   "source": [
    "precip=data.variables['precip']\n",
    "print(precip)"
   ]
  },
  {
   "cell_type": "code",
   "execution_count": 13,
   "metadata": {},
   "outputs": [
    {
     "name": "stdout",
     "output_type": "stream",
     "text": [
      "<class 'netCDF4._netCDF4.Variable'>\n",
      "float32 lat(lat)\n",
      "    units: degrees_north\n",
      "    actual_range: [ 88.75 -88.75]\n",
      "    long_name: Latitude\n",
      "    standard_name: latitude\n",
      "    axis: Y\n",
      "unlimited dimensions: \n",
      "current shape = (72,)\n",
      "filling on, default _FillValue of 9.969209968386869e+36 used\n"
     ]
    }
   ],
   "source": [
    "lat=data.variables['lat']\n",
    "print(lat)"
   ]
  },
  {
   "cell_type": "code",
   "execution_count": 14,
   "metadata": {},
   "outputs": [
    {
     "name": "stdout",
     "output_type": "stream",
     "text": [
      "<class 'netCDF4._netCDF4.Variable'>\n",
      "float32 lon(lon)\n",
      "    units: degrees_east\n",
      "    long_name: Longitude\n",
      "    actual_range: [  1.25 358.75]\n",
      "    standard_name: longitude\n",
      "    axis: X\n",
      "unlimited dimensions: \n",
      "current shape = (144,)\n",
      "filling on, default _FillValue of 9.969209968386869e+36 used\n"
     ]
    }
   ],
   "source": [
    "lon=data.variables['lon']\n",
    "print(lon)"
   ]
  },
  {
   "cell_type": "code",
   "execution_count": 15,
   "metadata": {},
   "outputs": [
    {
     "name": "stdout",
     "output_type": "stream",
     "text": [
      "<class 'netCDF4._netCDF4.Variable'>\n",
      "float64 time(time)\n",
      "    units: days since 1800-1-1 00:00:0.0\n",
      "    long_name: Time\n",
      "    delta_t: 0000-01-00 00:00:00\n",
      "    avg_period: 0000-01-00 00:00:00\n",
      "    standard_name: time\n",
      "    axis: T\n",
      "    actual_range: [65378. 80688.]\n",
      "unlimited dimensions: time\n",
      "current shape = (504,)\n",
      "filling on, default _FillValue of 9.969209968386869e+36 used\n"
     ]
    }
   ],
   "source": [
    "time=data.variables['time']\n",
    "print(time)"
   ]
  },
  {
   "cell_type": "code",
   "execution_count": 25,
   "metadata": {},
   "outputs": [
    {
     "name": "stdout",
     "output_type": "stream",
     "text": [
      "<class 'netCDF4._netCDF4.Variable'>\n",
      "float32 lat_bnds(lat, nv)\n",
      "    units: degrees_north\n",
      "    comment: latitude values at the north and south bounds of each pixel.\n",
      "unlimited dimensions: \n",
      "current shape = (72, 2)\n",
      "filling on, default _FillValue of 9.969209968386869e+36 used\n"
     ]
    }
   ],
   "source": [
    "lat_bnds=data.variables['lat_bnds']\n",
    "print(lat_bnds)"
   ]
  },
  {
   "cell_type": "code",
   "execution_count": 26,
   "metadata": {},
   "outputs": [
    {
     "name": "stdout",
     "output_type": "stream",
     "text": [
      "<class 'netCDF4._netCDF4.Variable'>\n",
      "float32 lon_bnds(lon, nv)\n",
      "    units: degrees_east\n",
      "    comment: longitude values at the west and east bounds of each pixel.\n",
      "unlimited dimensions: \n",
      "current shape = (144, 2)\n",
      "filling on, default _FillValue of 9.969209968386869e+36 used\n"
     ]
    }
   ],
   "source": [
    "lon_bnds=data.variables['lon_bnds']\n",
    "print(lon_bnds)"
   ]
  },
  {
   "cell_type": "code",
   "execution_count": 27,
   "metadata": {},
   "outputs": [
    {
     "name": "stdout",
     "output_type": "stream",
     "text": [
      "<class 'netCDF4._netCDF4.Variable'>\n",
      "float32 time_bnds(time, nv)\n",
      "    comment: time bounds for each time value\n",
      "    units: days since 1800-01-01 00:00:00 0:00\n",
      "unlimited dimensions: time\n",
      "current shape = (504, 2)\n",
      "filling on, default _FillValue of 9.969209968386869e+36 used\n"
     ]
    }
   ],
   "source": [
    "time_bnds=data.variables['time_bnds']\n",
    "print(time_bnds)"
   ]
  },
  {
   "cell_type": "markdown",
   "metadata": {},
   "source": [
    "# specific variables data"
   ]
  },
  {
   "cell_type": "code",
   "execution_count": 29,
   "metadata": {},
   "outputs": [
    {
     "name": "stdout",
     "output_type": "stream",
     "text": [
      "[-88.75 -86.25 -83.75 -81.25 -78.75 -76.25 -73.75 -71.25 -68.75 -66.25\n",
      " -63.75 -61.25 -58.75 -56.25 -53.75 -51.25 -48.75 -46.25 -43.75 -41.25\n",
      " -38.75 -36.25 -33.75 -31.25 -28.75 -26.25 -23.75 -21.25 -18.75 -16.25\n",
      " -13.75 -11.25  -8.75  -6.25  -3.75  -1.25   1.25   3.75   6.25   8.75\n",
      "  11.25  13.75  16.25  18.75  21.25  23.75  26.25  28.75  31.25  33.75\n",
      "  36.25  38.75  41.25  43.75  46.25  48.75  51.25  53.75  56.25  58.75\n",
      "  61.25  63.75  66.25  68.75  71.25  73.75  76.25  78.75  81.25  83.75\n",
      "  86.25  88.75]\n"
     ]
    },
    {
     "data": {
      "text/plain": [
       "(None, (72,))"
      ]
     },
     "execution_count": 29,
     "metadata": {},
     "output_type": "execute_result"
    }
   ],
   "source": [
    "lat_data=data.variables['lat'][:]\n",
    "print(lat_data), lat_data.shape"
   ]
  },
  {
   "cell_type": "code",
   "execution_count": 21,
   "metadata": {},
   "outputs": [
    {
     "name": "stdout",
     "output_type": "stream",
     "text": [
      "[  1.25   3.75   6.25   8.75  11.25  13.75  16.25  18.75  21.25  23.75\n",
      "  26.25  28.75  31.25  33.75  36.25  38.75  41.25  43.75  46.25  48.75\n",
      "  51.25  53.75  56.25  58.75  61.25  63.75  66.25  68.75  71.25  73.75\n",
      "  76.25  78.75  81.25  83.75  86.25  88.75  91.25  93.75  96.25  98.75\n",
      " 101.25 103.75 106.25 108.75 111.25 113.75 116.25 118.75 121.25 123.75\n",
      " 126.25 128.75 131.25 133.75 136.25 138.75 141.25 143.75 146.25 148.75\n",
      " 151.25 153.75 156.25 158.75 161.25 163.75 166.25 168.75 171.25 173.75\n",
      " 176.25 178.75 181.25 183.75 186.25 188.75 191.25 193.75 196.25 198.75\n",
      " 201.25 203.75 206.25 208.75 211.25 213.75 216.25 218.75 221.25 223.75\n",
      " 226.25 228.75 231.25 233.75 236.25 238.75 241.25 243.75 246.25 248.75\n",
      " 251.25 253.75 256.25 258.75 261.25 263.75 266.25 268.75 271.25 273.75\n",
      " 276.25 278.75 281.25 283.75 286.25 288.75 291.25 293.75 296.25 298.75\n",
      " 301.25 303.75 306.25 308.75 311.25 313.75 316.25 318.75 321.25 323.75\n",
      " 326.25 328.75 331.25 333.75 336.25 338.75 341.25 343.75 346.25 348.75\n",
      " 351.25 353.75 356.25 358.75]\n"
     ]
    },
    {
     "data": {
      "text/plain": [
       "(None, (144,))"
      ]
     },
     "execution_count": 21,
     "metadata": {},
     "output_type": "execute_result"
    }
   ],
   "source": [
    "lon_data=data.variables['lon'][:]\n",
    "print(lon_data),lon_data.shape"
   ]
  },
  {
   "cell_type": "code",
   "execution_count": 23,
   "metadata": {
    "scrolled": false
   },
   "outputs": [
    {
     "name": "stdout",
     "output_type": "stream",
     "text": [
      "[[[0.         0.         0.         ... 0.         0.         0.        ]\n",
      "  [0.         0.         0.         ... 0.         0.         0.        ]\n",
      "  [0.         0.         0.         ... 0.         0.         0.        ]\n",
      "  ...\n",
      "  [0.9812404  0.9320181  0.8138066  ... 0.91615057 0.811867   0.9017285 ]\n",
      "  [0.7499759  0.77453935 0.67079806 ... 0.6945452  0.73984015 0.7661884 ]\n",
      "  [0.6614727  0.5773457  0.617506   ... 0.5728163  0.6059005  0.70766836]]\n",
      "\n",
      " [[0.33657596 0.31659493 0.32447177 ... 0.2847315  0.29603544 0.3030814 ]\n",
      "  [0.2571579  0.28121045 0.28316426 ... 0.25939476 0.25399455 0.27813244]\n",
      "  [0.08254394 0.10533275 0.07907505 ... 0.17585263 0.19220772 0.1084968 ]\n",
      "  ...\n",
      "  [1.0672555  1.1468236  1.1544616  ... 1.0722239  1.092354   1.0788598 ]\n",
      "  [1.0344999  1.0159414  1.0127925  ... 0.920662   1.0546967  0.98493016]\n",
      "  [0.85120386 0.9196123  0.8411766  ... 0.9757969  0.8559053  0.8240325 ]]\n",
      "\n",
      " [[0.27318272 0.2796247  0.18690911 ... 0.17092893 0.20687902 0.25047475]\n",
      "  [0.22695705 0.2617566  0.22545393 ... 0.18492775 0.22260915 0.21192454]\n",
      "  [0.17479736 0.19792725 0.17848302 ... 0.15230082 0.16818552 0.1617133 ]\n",
      "  ...\n",
      "  [0.1808518  0.16238523 0.20151271 ... 0.13494967 0.15055057 0.16453111]\n",
      "  [0.         0.         0.         ... 0.         0.         0.        ]\n",
      "  [0.         0.         0.         ... 0.         0.         0.        ]]\n",
      "\n",
      " ...\n",
      "\n",
      " [[0.05325728 0.05334912 0.05438952 ... 0.05139999 0.05322902 0.05364678]\n",
      "  [0.00616164 0.00700975 0.00937249 ... 0.01007183 0.00855133 0.00518234]\n",
      "  [0.00745271 0.00718249 0.00658263 ... 0.02123791 0.01079373 0.00762851]\n",
      "  ...\n",
      "  [0.35663962 0.40706694 0.43995482 ... 0.2759748  0.2928766  0.3181272 ]\n",
      "  [0.26424196 0.26896393 0.29195935 ... 0.22400072 0.24437633 0.25902042]\n",
      "  [0.3855552  0.39196557 0.40591252 ... 0.37012672 0.37519348 0.38184515]]\n",
      "\n",
      " [[0.26175487 0.2603787  0.25784194 ... 0.2706121  0.26609498 0.2612661 ]\n",
      "  [0.3089281  0.31618074 0.32449102 ... 0.3104189  0.3223122  0.3211957 ]\n",
      "  [0.47614345 0.49560076 0.50597626 ... 0.39995483 0.42728072 0.4515355 ]\n",
      "  ...\n",
      "  [0.9917069  1.0573812  1.0916151  ... 0.8733773  0.90247095 0.9401369 ]\n",
      "  [1.0210583  1.0060525  0.9969434  ... 0.99097717 1.0086335  1.0267104 ]\n",
      "  [0.92442364 0.92750317 0.9323711  ... 0.9264172  0.9240001  0.9231989 ]]\n",
      "\n",
      " [[0.11810191 0.11246461 0.10364097 ... 0.14955582 0.13860993 0.1282184 ]\n",
      "  [0.20799272 0.18255988 0.15224132 ... 0.29170835 0.25374532 0.22758909]\n",
      "  [0.18371703 0.15851781 0.13461588 ... 0.22167534 0.20895964 0.20354463]\n",
      "  ...\n",
      "  [0.20206352 0.19488783 0.18692286 ... 0.23499945 0.22053929 0.21035868]\n",
      "  [0.24191995 0.2459248  0.24645543 ... 0.22519752 0.23331821 0.24031484]\n",
      "  [0.27634034 0.2804336  0.28605777 ... 0.26240832 0.27001962 0.27311376]]]\n"
     ]
    },
    {
     "data": {
      "text/plain": [
       "(None, (504, 72, 144))"
      ]
     },
     "execution_count": 23,
     "metadata": {},
     "output_type": "execute_result"
    }
   ],
   "source": [
    "precip_data=data.variables['precip'][:]\n",
    "print(precip_data), precip_data.shape"
   ]
  },
  {
   "cell_type": "code",
   "execution_count": 24,
   "metadata": {},
   "outputs": [
    {
     "name": "stdout",
     "output_type": "stream",
     "text": [
      "[65378. 65409. 65437. 65468. 65498. 65529. 65559. 65590. 65621. 65651.\n",
      " 65682. 65712. 65743. 65774. 65803. 65834. 65864. 65895. 65925. 65956.\n",
      " 65987. 66017. 66048. 66078. 66109. 66140. 66168. 66199. 66229. 66260.\n",
      " 66290. 66321. 66352. 66382. 66413. 66443. 66474. 66505. 66533. 66564.\n",
      " 66594. 66625. 66655. 66686. 66717. 66747. 66778. 66808. 66839. 66870.\n",
      " 66898. 66929. 66959. 66990. 67020. 67051. 67082. 67112. 67143. 67173.\n",
      " 67204. 67235. 67264. 67295. 67325. 67356. 67386. 67417. 67448. 67478.\n",
      " 67509. 67539. 67570. 67601. 67629. 67660. 67690. 67721. 67751. 67782.\n",
      " 67813. 67843. 67874. 67904. 67935. 67966. 67994. 68025. 68055. 68086.\n",
      " 68116. 68147. 68178. 68208. 68239. 68269. 68300. 68331. 68359. 68390.\n",
      " 68420. 68451. 68481. 68512. 68543. 68573. 68604. 68634. 68665. 68696.\n",
      " 68725. 68756. 68786. 68817. 68847. 68878. 68909. 68939. 68970. 69000.\n",
      " 69031. 69062. 69090. 69121. 69151. 69182. 69212. 69243. 69274. 69304.\n",
      " 69335. 69365. 69396. 69427. 69455. 69486. 69516. 69547. 69577. 69608.\n",
      " 69639. 69669. 69700. 69730. 69761. 69792. 69820. 69851. 69881. 69912.\n",
      " 69942. 69973. 70004. 70034. 70065. 70095. 70126. 70157. 70186. 70217.\n",
      " 70247. 70278. 70308. 70339. 70370. 70400. 70431. 70461. 70492. 70523.\n",
      " 70551. 70582. 70612. 70643. 70673. 70704. 70735. 70765. 70796. 70826.\n",
      " 70857. 70888. 70916. 70947. 70977. 71008. 71038. 71069. 71100. 71130.\n",
      " 71161. 71191. 71222. 71253. 71281. 71312. 71342. 71373. 71403. 71434.\n",
      " 71465. 71495. 71526. 71556. 71587. 71618. 71647. 71678. 71708. 71739.\n",
      " 71769. 71800. 71831. 71861. 71892. 71922. 71953. 71984. 72012. 72043.\n",
      " 72073. 72104. 72134. 72165. 72196. 72226. 72257. 72287. 72318. 72349.\n",
      " 72377. 72408. 72438. 72469. 72499. 72530. 72561. 72591. 72622. 72652.\n",
      " 72683. 72714. 72742. 72773. 72803. 72834. 72864. 72895. 72926. 72956.\n",
      " 72987. 73017. 73048. 73079. 73108. 73139. 73169. 73200. 73230. 73261.\n",
      " 73292. 73322. 73353. 73383. 73414. 73445. 73473. 73504. 73534. 73565.\n",
      " 73595. 73626. 73657. 73687. 73718. 73748. 73779. 73810. 73838. 73869.\n",
      " 73899. 73930. 73960. 73991. 74022. 74052. 74083. 74113. 74144. 74175.\n",
      " 74203. 74234. 74264. 74295. 74325. 74356. 74387. 74417. 74448. 74478.\n",
      " 74509. 74540. 74569. 74600. 74630. 74661. 74691. 74722. 74753. 74783.\n",
      " 74814. 74844. 74875. 74906. 74934. 74965. 74995. 75026. 75056. 75087.\n",
      " 75118. 75148. 75179. 75209. 75240. 75271. 75299. 75330. 75360. 75391.\n",
      " 75421. 75452. 75483. 75513. 75544. 75574. 75605. 75636. 75664. 75695.\n",
      " 75725. 75756. 75786. 75817. 75848. 75878. 75909. 75939. 75970. 76001.\n",
      " 76030. 76061. 76091. 76122. 76152. 76183. 76214. 76244. 76275. 76305.\n",
      " 76336. 76367. 76395. 76426. 76456. 76487. 76517. 76548. 76579. 76609.\n",
      " 76640. 76670. 76701. 76732. 76760. 76791. 76821. 76852. 76882. 76913.\n",
      " 76944. 76974. 77005. 77035. 77066. 77097. 77125. 77156. 77186. 77217.\n",
      " 77247. 77278. 77309. 77339. 77370. 77400. 77431. 77462. 77491. 77522.\n",
      " 77552. 77583. 77613. 77644. 77675. 77705. 77736. 77766. 77797. 77828.\n",
      " 77856. 77887. 77917. 77948. 77978. 78009. 78040. 78070. 78101. 78131.\n",
      " 78162. 78193. 78221. 78252. 78282. 78313. 78343. 78374. 78405. 78435.\n",
      " 78466. 78496. 78527. 78558. 78586. 78617. 78647. 78678. 78708. 78739.\n",
      " 78770. 78800. 78831. 78861. 78892. 78923. 78952. 78983. 79013. 79044.\n",
      " 79074. 79105. 79136. 79166. 79197. 79227. 79258. 79289. 79317. 79348.\n",
      " 79378. 79409. 79439. 79470. 79501. 79531. 79562. 79592. 79623. 79654.\n",
      " 79682. 79713. 79743. 79774. 79804. 79835. 79866. 79896. 79927. 79957.\n",
      " 79988. 80019. 80047. 80078. 80108. 80139. 80169. 80200. 80231. 80261.\n",
      " 80292. 80322. 80353. 80384. 80413. 80444. 80474. 80505. 80535. 80566.\n",
      " 80597. 80627. 80658. 80688.]\n"
     ]
    },
    {
     "data": {
      "text/plain": [
       "(None, (504,))"
      ]
     },
     "execution_count": 24,
     "metadata": {},
     "output_type": "execute_result"
    }
   ],
   "source": [
    "time_data=data.variables['time'][:]\n",
    "print(time_data),time_data.shape"
   ]
  },
  {
   "cell_type": "code",
   "execution_count": null,
   "metadata": {},
   "outputs": [],
   "source": []
  }
 ],
 "metadata": {
  "kernelspec": {
   "display_name": "Python 3",
   "language": "python",
   "name": "python3"
  },
  "language_info": {
   "codemirror_mode": {
    "name": "ipython",
    "version": 3
   },
   "file_extension": ".py",
   "mimetype": "text/x-python",
   "name": "python",
   "nbconvert_exporter": "python",
   "pygments_lexer": "ipython3",
   "version": "3.7.6"
  }
 },
 "nbformat": 4,
 "nbformat_minor": 4
}
